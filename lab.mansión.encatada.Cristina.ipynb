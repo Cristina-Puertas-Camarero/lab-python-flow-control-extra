{
 "cells": [
  {
   "cell_type": "markdown",
   "id": "d3bfc191-8885-42ee-b0a0-bbab867c6f9f",
   "metadata": {
    "tags": []
   },
   "source": [
    "# Lab | Flow Control"
   ]
  },
  {
   "cell_type": "code",
   "execution_count": null,
   "id": "303cceb0-f898-4c5f-99bd-c04e131e1ded",
   "metadata": {},
   "outputs": [],
   "source": [
    "Objective: Practice how to use programming constructs like if/else statements and loops to control the flow of a program's execution."
   ]
  },
  {
   "cell_type": "markdown",
   "id": "42fd260a-9eb2-4c39-9989-f2c8c70552ec",
   "metadata": {},
   "source": [
    "## Challenge: The Haunted Mansion"
   ]
  },
  {
   "cell_type": "code",
   "execution_count": null,
   "id": "7086f8f7-ded2-48e5-b966-7ec44fb57ca5",
   "metadata": {},
   "outputs": [],
   "source": [
    "You are a brave adventurer who has decided to explore the Haunted Mansion, a decrepit old building that is rumored to be haunted by ghosts and spirits. Your objective is to find the treasure that is hidden somewhere in the mansion.\n",
    "\n",
    "## Requirements\n",
    "\n",
    "- Your script should have at least two functions: \"run_mansion()\" and \"encounter_ghost()\".\n",
    "- Your script should use if-else statements, while loops, for loops, combined loops, or nested loops to control the flow of execution.\n",
    "- Your script should prompt the user for input to make decisions on which path to take or what actions to perform.\n",
    "- Your script should include random events and obstacles that can either help or hinder the adventurer in their quest.\n",
    "- Your script should have an objective of finding the treasure at the end of the mansion.\n",
    "\n",
    "## Instructions\n",
    "\n",
    "- Begin by creating a list of items that the adventurer can pick up along the way. These items will be used to help the adventurer overcome obstacles and defeat ghosts. Examples of items can be weapons, potions, keys, etc.\n",
    "\n",
    "- Complete the function called \"run_mansion()\" that serves as the main function for the game. Within \"run_mansion()\", prompt the user to choose a path to take at each intersection. Each path should have its unique challenges and obstacles that the adventurer must overcome.\n",
    "\n",
    "- Use loops to check if the adventurer has enough health points to continue the game. If their health points drop to zero, the game is over.\n",
    "\n",
    "- Complete the function called \"encounter_ghost()\" that will be used to handle ghost encounters. The function should use random events to determine the outcome of the encounter, and the adventurer should use their items to help them defeat the ghost.\n",
    "\n",
    "- Use loops to generate random events or items along the way. These events can either help or hinder the adventurer, and the outcome should be based on random chance.\n",
    "\n",
    "- At the end of the mansion, the adventurer will find the treasure, and the game will end.\n",
    "\n"
   ]
  },
  {
   "cell_type": "markdown",
   "id": "8846d61d-cf9d-4ad4-bbb8-1ecb3bb22005",
   "metadata": {},
   "source": [
    "*Introduction to Functions*:\n",
    "\n",
    "    Functions are blocks of code that perform a specific task. They are used to break up complex code into smaller, more manageable parts, which can make your code easier to read and understand. Functions can also be reused multiple times throughout your code, which can save you a lot of time and effort.\n",
    "\n",
    "    Functions are defined using the def keyword, followed by the name of the function and a set of parentheses. Inside the parentheses, you can list any arguments that the function needs in order to perform its task. These arguments are optional, but they can be useful if you need to pass data into the function from outside.\n",
    "\n",
    "    Once you have defined a function, you can call it from anywhere in your code using its name and passing any necessary arguments. When the function is called, the code inside it is executed, and any values that it returns are passed back to the calling code.\n",
    "\n",
    "    In this exercise, we have defined a function called encounter_ghost that simulates a battle between the adventurer and a ghost, and run_mansion. Your task is to complete these functions by using flow control statements such as if, else, while, for loops, and nested loops. Remember to pay attention to the instructions and comments provided in the function to help guide you. Once you have completed the function encounter_ghost, you can call it from the main code to simulate the battle and test your implementation.\n",
    "\n",
    "    Good luck!"
   ]
  },
  {
   "cell_type": "code",
   "execution_count": 3,
   "id": "499552c8-9e30-46e1-a706-4ac5dc64670e",
   "metadata": {},
   "outputs": [
    {
     "name": "stdout",
     "output_type": "stream",
     "text": [
      "has encontrado un fantasma!\n",
      "has vencido al fantasma!\n",
      "Resultado de la batalla: has ganado\n"
     ]
    }
   ],
   "source": [
    "import random\n",
    "\n",
    "def encounter_ghost():\n",
    "    print(\"has encontrado un fantasma!\")\n",
    "    \n",
    "    resultado_batalla = random.randint(1, 10)\n",
    "    \n",
    "    if resultado_batalla <= 5:\n",
    "        print(\"has vencido al fantasma!\")\n",
    "        return True  \n",
    "    else:\n",
    "        print(\"has perdido...\")\n",
    "        return False \n",
    "\n",
    "\n",
    "resultado = encounter_ghost()\n",
    "print(f\"Resultado de la batalla: {'has ganado' if resultado else 'Derrota'}\")\n",
    "\n",
    "    \n",
    "    \n",
    "    "
   ]
  },
  {
   "cell_type": "markdown",
   "id": "9e13a33c-38e5-44b3-bd1b-9a642c962c89",
   "metadata": {},
   "source": [
    "To run the game, simply call the run_mansion() function:"
   ]
  },
  {
   "cell_type": "code",
   "execution_count": 4,
   "id": "f238dc90-0be2-4d8c-93e9-30a1dc8a5b72",
   "metadata": {},
   "outputs": [
    {
     "name": "stdout",
     "output_type": "stream",
     "text": [
      "trampa, pierdes dos puntos de vida.\n",
      "trampa, pierdes dos puntos de vida.\n",
      "has encontrado un fantasma!\n",
      "has perdido...\n",
      "has encontrado un fantasma!\n",
      "has vencido al fantasma!\n",
      "tienes la llave\n",
      "has ganado, abriste la puerta y tienes el tesoro\n"
     ]
    }
   ],
   "source": [
    "def run_mansion():\n",
    "    \n",
    "    puntos_vida = 10\n",
    "    objetos = []\n",
    "    tiene_llave = False\n",
    "\n",
    "    while puntos_vida > 0 and not tiene_llave:\n",
    "        \n",
    "        ruta = input(\"Elige un camino ('izquierda' o 'derecha'): \").lower()\n",
    "\n",
    "        if ruta == \"izquierda\":\n",
    "            evento_aleatorio = random.randint(1, 2)  \n",
    "            if evento_aleatorio == 1:\n",
    "                print(\"has encontrado una poción!\")\n",
    "                objetos.append(\"poción\")\n",
    "            else:\n",
    "                print(\"trampa, pierdes dos puntos de vida.\")\n",
    "                puntos_vida -= 2\n",
    "\n",
    "        elif ruta == \"derecha\":\n",
    "            resultado_batalla = encounter_ghost()\n",
    "            if resultado_batalla:\n",
    "                print(\"tienes la llave\")\n",
    "                objetos.append(\"llave\")\n",
    "                tiene_llave = True\n",
    "            else:\n",
    "                puntos_vida -= 2\n",
    "\n",
    "        else:\n",
    "            print(\"esto no vale, sigue intentando.\")\n",
    "\n",
    "    if puntos_vida <= 0:\n",
    "        print(\"has muerto, fin del juego.\")\n",
    "    elif tiene_llave:\n",
    "        print(\"has ganado, abriste la puerta y tienes el tesoro\")\n",
    "\n",
    "\n",
    "run_mansion()\n"
   ]
  },
  {
   "cell_type": "markdown",
   "id": "88212f63-3bdb-479f-bf6c-4ecd0685d39a",
   "metadata": {},
   "source": [
    "This should print the game's narrative and prompt the user to make choices and fight ghosts. The game ends when the adventurer finds the key or loses all their health points. "
   ]
  }
 ],
 "metadata": {
  "kernelspec": {
   "display_name": "base",
   "language": "python",
   "name": "python3"
  },
  "language_info": {
   "codemirror_mode": {
    "name": "ipython",
    "version": 3
   },
   "file_extension": ".py",
   "mimetype": "text/x-python",
   "name": "python",
   "nbconvert_exporter": "python",
   "pygments_lexer": "ipython3",
   "version": "3.12.7"
  }
 },
 "nbformat": 4,
 "nbformat_minor": 5
}
